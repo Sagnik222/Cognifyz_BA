{
  "nbformat": 4,
  "nbformat_minor": 0,
  "metadata": {
    "colab": {
      "provenance": []
    },
    "kernelspec": {
      "name": "python3",
      "display_name": "Python 3"
    },
    "language_info": {
      "name": "python"
    }
  },
  "cells": [
    {
      "cell_type": "code",
      "execution_count": 2,
      "metadata": {
        "id": "N7DqpKN_43px"
      },
      "outputs": [],
      "source": [
        "#Task 1: Data overview\n",
        "import pandas as pd\n",
        "import numpy as np\n",
        "import matplotlib.pyplot as plt\n",
        "import seaborn as sns"
      ]
    },
    {
      "cell_type": "code",
      "source": [
        "df= pd.read_csv('/content/Data_set 2 - Copy.csv')"
      ],
      "metadata": {
        "id": "CazeSBVc5MEY"
      },
      "execution_count": 3,
      "outputs": []
    },
    {
      "cell_type": "code",
      "source": [
        "df.head()"
      ],
      "metadata": {
        "colab": {
          "base_uri": "https://localhost:8080/",
          "height": 446
        },
        "id": "hpTNwp235Tbo",
        "outputId": "e48e359a-e441-4173-e7e0-b81444b27ae7"
      },
      "execution_count": 4,
      "outputs": [
        {
          "output_type": "execute_result",
          "data": {
            "text/plain": [
              "   gender  age Investment_Avenues  Mutual_Funds  Equity_Market  Debentures  \\\n",
              "0  Female   34                Yes             1              2           5   \n",
              "1  Female   23                Yes             4              3           2   \n",
              "2    Male   30                Yes             3              6           4   \n",
              "3    Male   22                Yes             2              1           3   \n",
              "4  Female   24                 No             2              1           3   \n",
              "\n",
              "   Government_Bonds  Fixed_Deposits  PPF  Gold  ...           Duration  \\\n",
              "0                 3               7    6     4  ...          1-3 years   \n",
              "1                 1               5    6     7  ...  More than 5 years   \n",
              "2                 2               5    1     7  ...          3-5 years   \n",
              "3                 7               6    4     5  ...   Less than 1 year   \n",
              "4                 6               4    5     7  ...   Less than 1 year   \n",
              "\n",
              "  Invest_Monitor   Expect       Avenue What are your savings objectives?  \\\n",
              "0        Monthly  20%-30%  Mutual Fund                   Retirement Plan   \n",
              "1         Weekly  20%-30%  Mutual Fund                       Health Care   \n",
              "2          Daily  20%-30%       Equity                   Retirement Plan   \n",
              "3          Daily  10%-20%       Equity                   Retirement Plan   \n",
              "4          Daily  20%-30%       Equity                   Retirement Plan   \n",
              "\n",
              "          Reason_Equity         Reason_Mutual     Reason_Bonds  \\\n",
              "0  Capital Appreciation        Better Returns  Safe Investment   \n",
              "1              Dividend        Better Returns  Safe Investment   \n",
              "2  Capital Appreciation          Tax Benefits  Assured Returns   \n",
              "3              Dividend  Fund Diversification   Tax Incentives   \n",
              "4  Capital Appreciation        Better Returns  Safe Investment   \n",
              "\n",
              "             Reason_FD                    Source  \n",
              "0        Fixed Returns  Newspapers and Magazines  \n",
              "1  High Interest Rates     Financial Consultants  \n",
              "2        Fixed Returns                Television  \n",
              "3  High Interest Rates                  Internet  \n",
              "4            Risk Free                  Internet  \n",
              "\n",
              "[5 rows x 24 columns]"
            ],
            "text/html": [
              "\n",
              "  <div id=\"df-db786b84-f933-479e-8399-566bdcd00fc9\" class=\"colab-df-container\">\n",
              "    <div>\n",
              "<style scoped>\n",
              "    .dataframe tbody tr th:only-of-type {\n",
              "        vertical-align: middle;\n",
              "    }\n",
              "\n",
              "    .dataframe tbody tr th {\n",
              "        vertical-align: top;\n",
              "    }\n",
              "\n",
              "    .dataframe thead th {\n",
              "        text-align: right;\n",
              "    }\n",
              "</style>\n",
              "<table border=\"1\" class=\"dataframe\">\n",
              "  <thead>\n",
              "    <tr style=\"text-align: right;\">\n",
              "      <th></th>\n",
              "      <th>gender</th>\n",
              "      <th>age</th>\n",
              "      <th>Investment_Avenues</th>\n",
              "      <th>Mutual_Funds</th>\n",
              "      <th>Equity_Market</th>\n",
              "      <th>Debentures</th>\n",
              "      <th>Government_Bonds</th>\n",
              "      <th>Fixed_Deposits</th>\n",
              "      <th>PPF</th>\n",
              "      <th>Gold</th>\n",
              "      <th>...</th>\n",
              "      <th>Duration</th>\n",
              "      <th>Invest_Monitor</th>\n",
              "      <th>Expect</th>\n",
              "      <th>Avenue</th>\n",
              "      <th>What are your savings objectives?</th>\n",
              "      <th>Reason_Equity</th>\n",
              "      <th>Reason_Mutual</th>\n",
              "      <th>Reason_Bonds</th>\n",
              "      <th>Reason_FD</th>\n",
              "      <th>Source</th>\n",
              "    </tr>\n",
              "  </thead>\n",
              "  <tbody>\n",
              "    <tr>\n",
              "      <th>0</th>\n",
              "      <td>Female</td>\n",
              "      <td>34</td>\n",
              "      <td>Yes</td>\n",
              "      <td>1</td>\n",
              "      <td>2</td>\n",
              "      <td>5</td>\n",
              "      <td>3</td>\n",
              "      <td>7</td>\n",
              "      <td>6</td>\n",
              "      <td>4</td>\n",
              "      <td>...</td>\n",
              "      <td>1-3 years</td>\n",
              "      <td>Monthly</td>\n",
              "      <td>20%-30%</td>\n",
              "      <td>Mutual Fund</td>\n",
              "      <td>Retirement Plan</td>\n",
              "      <td>Capital Appreciation</td>\n",
              "      <td>Better Returns</td>\n",
              "      <td>Safe Investment</td>\n",
              "      <td>Fixed Returns</td>\n",
              "      <td>Newspapers and Magazines</td>\n",
              "    </tr>\n",
              "    <tr>\n",
              "      <th>1</th>\n",
              "      <td>Female</td>\n",
              "      <td>23</td>\n",
              "      <td>Yes</td>\n",
              "      <td>4</td>\n",
              "      <td>3</td>\n",
              "      <td>2</td>\n",
              "      <td>1</td>\n",
              "      <td>5</td>\n",
              "      <td>6</td>\n",
              "      <td>7</td>\n",
              "      <td>...</td>\n",
              "      <td>More than 5 years</td>\n",
              "      <td>Weekly</td>\n",
              "      <td>20%-30%</td>\n",
              "      <td>Mutual Fund</td>\n",
              "      <td>Health Care</td>\n",
              "      <td>Dividend</td>\n",
              "      <td>Better Returns</td>\n",
              "      <td>Safe Investment</td>\n",
              "      <td>High Interest Rates</td>\n",
              "      <td>Financial Consultants</td>\n",
              "    </tr>\n",
              "    <tr>\n",
              "      <th>2</th>\n",
              "      <td>Male</td>\n",
              "      <td>30</td>\n",
              "      <td>Yes</td>\n",
              "      <td>3</td>\n",
              "      <td>6</td>\n",
              "      <td>4</td>\n",
              "      <td>2</td>\n",
              "      <td>5</td>\n",
              "      <td>1</td>\n",
              "      <td>7</td>\n",
              "      <td>...</td>\n",
              "      <td>3-5 years</td>\n",
              "      <td>Daily</td>\n",
              "      <td>20%-30%</td>\n",
              "      <td>Equity</td>\n",
              "      <td>Retirement Plan</td>\n",
              "      <td>Capital Appreciation</td>\n",
              "      <td>Tax Benefits</td>\n",
              "      <td>Assured Returns</td>\n",
              "      <td>Fixed Returns</td>\n",
              "      <td>Television</td>\n",
              "    </tr>\n",
              "    <tr>\n",
              "      <th>3</th>\n",
              "      <td>Male</td>\n",
              "      <td>22</td>\n",
              "      <td>Yes</td>\n",
              "      <td>2</td>\n",
              "      <td>1</td>\n",
              "      <td>3</td>\n",
              "      <td>7</td>\n",
              "      <td>6</td>\n",
              "      <td>4</td>\n",
              "      <td>5</td>\n",
              "      <td>...</td>\n",
              "      <td>Less than 1 year</td>\n",
              "      <td>Daily</td>\n",
              "      <td>10%-20%</td>\n",
              "      <td>Equity</td>\n",
              "      <td>Retirement Plan</td>\n",
              "      <td>Dividend</td>\n",
              "      <td>Fund Diversification</td>\n",
              "      <td>Tax Incentives</td>\n",
              "      <td>High Interest Rates</td>\n",
              "      <td>Internet</td>\n",
              "    </tr>\n",
              "    <tr>\n",
              "      <th>4</th>\n",
              "      <td>Female</td>\n",
              "      <td>24</td>\n",
              "      <td>No</td>\n",
              "      <td>2</td>\n",
              "      <td>1</td>\n",
              "      <td>3</td>\n",
              "      <td>6</td>\n",
              "      <td>4</td>\n",
              "      <td>5</td>\n",
              "      <td>7</td>\n",
              "      <td>...</td>\n",
              "      <td>Less than 1 year</td>\n",
              "      <td>Daily</td>\n",
              "      <td>20%-30%</td>\n",
              "      <td>Equity</td>\n",
              "      <td>Retirement Plan</td>\n",
              "      <td>Capital Appreciation</td>\n",
              "      <td>Better Returns</td>\n",
              "      <td>Safe Investment</td>\n",
              "      <td>Risk Free</td>\n",
              "      <td>Internet</td>\n",
              "    </tr>\n",
              "  </tbody>\n",
              "</table>\n",
              "<p>5 rows × 24 columns</p>\n",
              "</div>\n",
              "    <div class=\"colab-df-buttons\">\n",
              "\n",
              "  <div class=\"colab-df-container\">\n",
              "    <button class=\"colab-df-convert\" onclick=\"convertToInteractive('df-db786b84-f933-479e-8399-566bdcd00fc9')\"\n",
              "            title=\"Convert this dataframe to an interactive table.\"\n",
              "            style=\"display:none;\">\n",
              "\n",
              "  <svg xmlns=\"http://www.w3.org/2000/svg\" height=\"24px\" viewBox=\"0 -960 960 960\">\n",
              "    <path d=\"M120-120v-720h720v720H120Zm60-500h600v-160H180v160Zm220 220h160v-160H400v160Zm0 220h160v-160H400v160ZM180-400h160v-160H180v160Zm440 0h160v-160H620v160ZM180-180h160v-160H180v160Zm440 0h160v-160H620v160Z\"/>\n",
              "  </svg>\n",
              "    </button>\n",
              "\n",
              "  <style>\n",
              "    .colab-df-container {\n",
              "      display:flex;\n",
              "      gap: 12px;\n",
              "    }\n",
              "\n",
              "    .colab-df-convert {\n",
              "      background-color: #E8F0FE;\n",
              "      border: none;\n",
              "      border-radius: 50%;\n",
              "      cursor: pointer;\n",
              "      display: none;\n",
              "      fill: #1967D2;\n",
              "      height: 32px;\n",
              "      padding: 0 0 0 0;\n",
              "      width: 32px;\n",
              "    }\n",
              "\n",
              "    .colab-df-convert:hover {\n",
              "      background-color: #E2EBFA;\n",
              "      box-shadow: 0px 1px 2px rgba(60, 64, 67, 0.3), 0px 1px 3px 1px rgba(60, 64, 67, 0.15);\n",
              "      fill: #174EA6;\n",
              "    }\n",
              "\n",
              "    .colab-df-buttons div {\n",
              "      margin-bottom: 4px;\n",
              "    }\n",
              "\n",
              "    [theme=dark] .colab-df-convert {\n",
              "      background-color: #3B4455;\n",
              "      fill: #D2E3FC;\n",
              "    }\n",
              "\n",
              "    [theme=dark] .colab-df-convert:hover {\n",
              "      background-color: #434B5C;\n",
              "      box-shadow: 0px 1px 3px 1px rgba(0, 0, 0, 0.15);\n",
              "      filter: drop-shadow(0px 1px 2px rgba(0, 0, 0, 0.3));\n",
              "      fill: #FFFFFF;\n",
              "    }\n",
              "  </style>\n",
              "\n",
              "    <script>\n",
              "      const buttonEl =\n",
              "        document.querySelector('#df-db786b84-f933-479e-8399-566bdcd00fc9 button.colab-df-convert');\n",
              "      buttonEl.style.display =\n",
              "        google.colab.kernel.accessAllowed ? 'block' : 'none';\n",
              "\n",
              "      async function convertToInteractive(key) {\n",
              "        const element = document.querySelector('#df-db786b84-f933-479e-8399-566bdcd00fc9');\n",
              "        const dataTable =\n",
              "          await google.colab.kernel.invokeFunction('convertToInteractive',\n",
              "                                                    [key], {});\n",
              "        if (!dataTable) return;\n",
              "\n",
              "        const docLinkHtml = 'Like what you see? Visit the ' +\n",
              "          '<a target=\"_blank\" href=https://colab.research.google.com/notebooks/data_table.ipynb>data table notebook</a>'\n",
              "          + ' to learn more about interactive tables.';\n",
              "        element.innerHTML = '';\n",
              "        dataTable['output_type'] = 'display_data';\n",
              "        await google.colab.output.renderOutput(dataTable, element);\n",
              "        const docLink = document.createElement('div');\n",
              "        docLink.innerHTML = docLinkHtml;\n",
              "        element.appendChild(docLink);\n",
              "      }\n",
              "    </script>\n",
              "  </div>\n",
              "\n",
              "\n",
              "<div id=\"df-0296dd8f-c501-4446-b933-970e9743c712\">\n",
              "  <button class=\"colab-df-quickchart\" onclick=\"quickchart('df-0296dd8f-c501-4446-b933-970e9743c712')\"\n",
              "            title=\"Suggest charts\"\n",
              "            style=\"display:none;\">\n",
              "\n",
              "<svg xmlns=\"http://www.w3.org/2000/svg\" height=\"24px\"viewBox=\"0 0 24 24\"\n",
              "     width=\"24px\">\n",
              "    <g>\n",
              "        <path d=\"M19 3H5c-1.1 0-2 .9-2 2v14c0 1.1.9 2 2 2h14c1.1 0 2-.9 2-2V5c0-1.1-.9-2-2-2zM9 17H7v-7h2v7zm4 0h-2V7h2v10zm4 0h-2v-4h2v4z\"/>\n",
              "    </g>\n",
              "</svg>\n",
              "  </button>\n",
              "\n",
              "<style>\n",
              "  .colab-df-quickchart {\n",
              "      --bg-color: #E8F0FE;\n",
              "      --fill-color: #1967D2;\n",
              "      --hover-bg-color: #E2EBFA;\n",
              "      --hover-fill-color: #174EA6;\n",
              "      --disabled-fill-color: #AAA;\n",
              "      --disabled-bg-color: #DDD;\n",
              "  }\n",
              "\n",
              "  [theme=dark] .colab-df-quickchart {\n",
              "      --bg-color: #3B4455;\n",
              "      --fill-color: #D2E3FC;\n",
              "      --hover-bg-color: #434B5C;\n",
              "      --hover-fill-color: #FFFFFF;\n",
              "      --disabled-bg-color: #3B4455;\n",
              "      --disabled-fill-color: #666;\n",
              "  }\n",
              "\n",
              "  .colab-df-quickchart {\n",
              "    background-color: var(--bg-color);\n",
              "    border: none;\n",
              "    border-radius: 50%;\n",
              "    cursor: pointer;\n",
              "    display: none;\n",
              "    fill: var(--fill-color);\n",
              "    height: 32px;\n",
              "    padding: 0;\n",
              "    width: 32px;\n",
              "  }\n",
              "\n",
              "  .colab-df-quickchart:hover {\n",
              "    background-color: var(--hover-bg-color);\n",
              "    box-shadow: 0 1px 2px rgba(60, 64, 67, 0.3), 0 1px 3px 1px rgba(60, 64, 67, 0.15);\n",
              "    fill: var(--button-hover-fill-color);\n",
              "  }\n",
              "\n",
              "  .colab-df-quickchart-complete:disabled,\n",
              "  .colab-df-quickchart-complete:disabled:hover {\n",
              "    background-color: var(--disabled-bg-color);\n",
              "    fill: var(--disabled-fill-color);\n",
              "    box-shadow: none;\n",
              "  }\n",
              "\n",
              "  .colab-df-spinner {\n",
              "    border: 2px solid var(--fill-color);\n",
              "    border-color: transparent;\n",
              "    border-bottom-color: var(--fill-color);\n",
              "    animation:\n",
              "      spin 1s steps(1) infinite;\n",
              "  }\n",
              "\n",
              "  @keyframes spin {\n",
              "    0% {\n",
              "      border-color: transparent;\n",
              "      border-bottom-color: var(--fill-color);\n",
              "      border-left-color: var(--fill-color);\n",
              "    }\n",
              "    20% {\n",
              "      border-color: transparent;\n",
              "      border-left-color: var(--fill-color);\n",
              "      border-top-color: var(--fill-color);\n",
              "    }\n",
              "    30% {\n",
              "      border-color: transparent;\n",
              "      border-left-color: var(--fill-color);\n",
              "      border-top-color: var(--fill-color);\n",
              "      border-right-color: var(--fill-color);\n",
              "    }\n",
              "    40% {\n",
              "      border-color: transparent;\n",
              "      border-right-color: var(--fill-color);\n",
              "      border-top-color: var(--fill-color);\n",
              "    }\n",
              "    60% {\n",
              "      border-color: transparent;\n",
              "      border-right-color: var(--fill-color);\n",
              "    }\n",
              "    80% {\n",
              "      border-color: transparent;\n",
              "      border-right-color: var(--fill-color);\n",
              "      border-bottom-color: var(--fill-color);\n",
              "    }\n",
              "    90% {\n",
              "      border-color: transparent;\n",
              "      border-bottom-color: var(--fill-color);\n",
              "    }\n",
              "  }\n",
              "</style>\n",
              "\n",
              "  <script>\n",
              "    async function quickchart(key) {\n",
              "      const quickchartButtonEl =\n",
              "        document.querySelector('#' + key + ' button');\n",
              "      quickchartButtonEl.disabled = true;  // To prevent multiple clicks.\n",
              "      quickchartButtonEl.classList.add('colab-df-spinner');\n",
              "      try {\n",
              "        const charts = await google.colab.kernel.invokeFunction(\n",
              "            'suggestCharts', [key], {});\n",
              "      } catch (error) {\n",
              "        console.error('Error during call to suggestCharts:', error);\n",
              "      }\n",
              "      quickchartButtonEl.classList.remove('colab-df-spinner');\n",
              "      quickchartButtonEl.classList.add('colab-df-quickchart-complete');\n",
              "    }\n",
              "    (() => {\n",
              "      let quickchartButtonEl =\n",
              "        document.querySelector('#df-0296dd8f-c501-4446-b933-970e9743c712 button');\n",
              "      quickchartButtonEl.style.display =\n",
              "        google.colab.kernel.accessAllowed ? 'block' : 'none';\n",
              "    })();\n",
              "  </script>\n",
              "</div>\n",
              "\n",
              "    </div>\n",
              "  </div>\n"
            ],
            "application/vnd.google.colaboratory.intrinsic+json": {
              "type": "dataframe",
              "variable_name": "df"
            }
          },
          "metadata": {},
          "execution_count": 4
        }
      ]
    },
    {
      "cell_type": "code",
      "source": [
        "df.info()"
      ],
      "metadata": {
        "colab": {
          "base_uri": "https://localhost:8080/"
        },
        "id": "dHOQsa7I5d4B",
        "outputId": "7ce55f72-c629-429a-8b68-41629f0b42bf"
      },
      "execution_count": 5,
      "outputs": [
        {
          "output_type": "stream",
          "name": "stdout",
          "text": [
            "<class 'pandas.core.frame.DataFrame'>\n",
            "RangeIndex: 40 entries, 0 to 39\n",
            "Data columns (total 24 columns):\n",
            " #   Column                             Non-Null Count  Dtype \n",
            "---  ------                             --------------  ----- \n",
            " 0   gender                             40 non-null     object\n",
            " 1   age                                40 non-null     int64 \n",
            " 2   Investment_Avenues                 40 non-null     object\n",
            " 3   Mutual_Funds                       40 non-null     int64 \n",
            " 4   Equity_Market                      40 non-null     int64 \n",
            " 5   Debentures                         40 non-null     int64 \n",
            " 6   Government_Bonds                   40 non-null     int64 \n",
            " 7   Fixed_Deposits                     40 non-null     int64 \n",
            " 8   PPF                                40 non-null     int64 \n",
            " 9   Gold                               40 non-null     int64 \n",
            " 10  Stock_Marktet                      40 non-null     object\n",
            " 11  Factor                             40 non-null     object\n",
            " 12  Objective                          40 non-null     object\n",
            " 13  Purpose                            40 non-null     object\n",
            " 14  Duration                           40 non-null     object\n",
            " 15  Invest_Monitor                     40 non-null     object\n",
            " 16  Expect                             40 non-null     object\n",
            " 17  Avenue                             40 non-null     object\n",
            " 18  What are your savings objectives?  40 non-null     object\n",
            " 19  Reason_Equity                      40 non-null     object\n",
            " 20  Reason_Mutual                      40 non-null     object\n",
            " 21  Reason_Bonds                       40 non-null     object\n",
            " 22  Reason_FD                          40 non-null     object\n",
            " 23  Source                             40 non-null     object\n",
            "dtypes: int64(8), object(16)\n",
            "memory usage: 7.6+ KB\n"
          ]
        }
      ]
    },
    {
      "cell_type": "code",
      "source": [
        "#Task2: Gender Distribution\n",
        "gender_counts = df['gender'].value_counts()\n",
        "plt.pie(gender_counts, labels=gender_counts.index, autopct='%1.1f%%', startangle=90)\n",
        "plt.title('Gender Distribution')\n",
        "plt.show()"
      ],
      "metadata": {
        "colab": {
          "base_uri": "https://localhost:8080/",
          "height": 428
        },
        "id": "-rJbAu_46J18",
        "outputId": "88b98997-1ffd-4a81-d9a5-682683af6779"
      },
      "execution_count": 6,
      "outputs": [
        {
          "output_type": "display_data",
          "data": {
            "text/plain": [
              "<Figure size 640x480 with 1 Axes>"
            ],
            "image/png": "[encoded data removed]"
          },
          "metadata": {}
        }
      ]
    },
    {
      "cell_type": "code",
      "source": [
        "#Task3: Descriptive Statistics\n",
        "numerical_cols = df.select_dtypes(include=np.number).columns.tolist()\n",
        "print(numerical_cols)"
      ],
      "metadata": {
        "colab": {
          "base_uri": "https://localhost:8080/"
        },
        "id": "3oP3nalR6gpQ",
        "outputId": "c91b0496-972c-4aa6-92bc-ad5cfb86fb2f"
      },
      "execution_count": 7,
      "outputs": [
        {
          "output_type": "stream",
          "name": "stdout",
          "text": [
            "['age', 'Mutual_Funds', 'Equity_Market', 'Debentures', 'Government_Bonds', 'Fixed_Deposits', 'PPF', 'Gold']\n"
          ]
        }
      ]
    },
    {
      "cell_type": "code",
      "source": [
        "mean = df[numerical_cols].mean()\n",
        "median = df[numerical_cols].median()\n",
        "standard_deviation = df[numerical_cols].std()\n",
        "\n",
        "print(\"Mean:\\n\", mean)\n",
        "print(\"\\nMedian:\\n\", median)\n",
        "print(\"\\nStandard Deviation:\\n\", standard_deviation)"
      ],
      "metadata": {
        "colab": {
          "base_uri": "https://localhost:8080/"
        },
        "id": "gpXM2MQ566SM",
        "outputId": "40e49549-a017-43b7-e0bc-d1ef23ed1531"
      },
      "execution_count": 8,
      "outputs": [
        {
          "output_type": "stream",
          "name": "stdout",
          "text": [
            "Mean:\n",
            " age                 27.800\n",
            "Mutual_Funds         2.550\n",
            "Equity_Market        3.475\n",
            "Debentures           5.750\n",
            "Government_Bonds     4.650\n",
            "Fixed_Deposits       3.575\n",
            "PPF                  2.025\n",
            "Gold                 5.975\n",
            "dtype: float64\n",
            "\n",
            "Median:\n",
            " age                 27.0\n",
            "Mutual_Funds         2.0\n",
            "Equity_Market        4.0\n",
            "Debentures           6.5\n",
            "Government_Bonds     5.0\n",
            "Fixed_Deposits       3.5\n",
            "PPF                  1.0\n",
            "Gold                 6.0\n",
            "dtype: float64\n",
            "\n",
            "Standard Deviation:\n",
            " age                 3.560467\n",
            "Mutual_Funds        1.197219\n",
            "Equity_Market       1.131994\n",
            "Debentures          1.675617\n",
            "Government_Bonds    1.369072\n",
            "Fixed_Deposits      1.795828\n",
            "PPF                 1.609069\n",
            "Gold                1.143263\n",
            "dtype: float64\n"
          ]
        }
      ]
    },
    {
      "cell_type": "code",
      "source": [
        "#Task4: Most preferred investment avenue\n",
        "investment_avenue_counts = df['Investment_Avenues'].value_counts()\n",
        "most_frequent_avenue = investment_avenue_counts.idxmax()\n",
        "print(\"Frequency Analysis of Investment Avenues:\")\n",
        "print(investment_avenue_counts)\n",
        "print(\"\\nMost Frequent Investment Avenue:\", most_frequent_avenue)"
      ],
      "metadata": {
        "colab": {
          "base_uri": "https://localhost:8080/"
        },
        "id": "Q-2Dlw7u7Z2J",
        "outputId": "7fd6ad53-0eb3-478a-b7de-1a4e797965fd"
      },
      "execution_count": 9,
      "outputs": [
        {
          "output_type": "stream",
          "name": "stdout",
          "text": [
            "Frequency Analysis of Investment Avenues:\n",
            "Investment_Avenues\n",
            "Yes    37\n",
            "No      3\n",
            "Name: count, dtype: int64\n",
            "\n",
            "Most Frequent Investment Avenue: Yes\n"
          ]
        }
      ]
    },
    {
      "cell_type": "code",
      "source": [
        "#Task5: Reasons for investment\n",
        "import nltk\n",
        "from nltk.corpus import stopwords\n",
        "from nltk.tokenize import word_tokenize\n",
        "from collections import Counter\n",
        "\n",
        "nltk.download('punkt')\n",
        "nltk.download('stopwords')\n",
        "\n",
        "\n",
        "def summarize_reasons(df, column_names=['Reason_Equity','Reason_Mutual','Reason_Bonds','Reason_FD']):\n",
        "\n",
        "    all_reasons_text = \"\"\n",
        "    for column_name in column_names:\n",
        "        all_reasons_text += \" \".join(df[column_name].astype(str).tolist())\n",
        "\n",
        "    tokens = word_tokenize(all_reasons_text.lower())\n",
        "    stop_words = set(stopwords.words('english'))\n",
        "    filtered_tokens = [w for w in tokens if w.isalnum() and w not in stop_words]\n",
        "    word_frequencies = Counter(filtered_tokens)\n",
        "    return word_frequencies\n",
        "\n",
        "word_frequencies = summarize_reasons(df)\n",
        "\n",
        "print(\"Common Themes/Recurring Reasons:\")\n",
        "for word, frequency in word_frequencies.most_common(10):\n",
        "    print(f\"{word}: {frequency}\")"
      ],
      "metadata": {
        "colab": {
          "base_uri": "https://localhost:8080/"
        },
        "id": "kIMAic2d75mb",
        "outputId": "65bd5677-eda5-4414-c645-6b9d6756ca12"
      },
      "execution_count": 11,
      "outputs": [
        {
          "output_type": "stream",
          "name": "stdout",
          "text": [
            "Common Themes/Recurring Reasons:\n",
            "returns: 67\n",
            "capital: 30\n",
            "appreciation: 30\n",
            "assured: 26\n",
            "better: 23\n",
            "risk: 19\n",
            "free: 19\n",
            "fixed: 17\n",
            "fund: 13\n",
            "diversification: 13\n"
          ]
        },
        {
          "output_type": "stream",
          "name": "stderr",
          "text": [
            "[nltk_data] Downloading package punkt to /root/nltk_data...\n",
            "[nltk_data]   Package punkt is already up-to-date!\n",
            "[nltk_data] Downloading package stopwords to /root/nltk_data...\n",
            "[nltk_data]   Package stopwords is already up-to-date!\n"
          ]
        }
      ]
    },
    {
      "cell_type": "code",
      "source": [
        "#Task6: Savings Objectives\n",
        "def savings_objectives(df, column_name='What are your savings objectives?'):\n",
        "\n",
        "    objective_counts = df[column_name].value_counts().to_dict()\n",
        "    objective_summary = {}\n",
        "    for objective, count in objective_counts.items():\n",
        "        objective_summary[objective] = {\n",
        "            'frequency': count,\n",
        "            'description': f\"This objective focuses on {objective.lower()}\"\n",
        "\n",
        "        }\n",
        "\n",
        "    return objective_summary\n",
        "\n",
        "savings_summary = savings_objectives(df)\n",
        "\n",
        "print(\"Savings Objectives Summary:\")\n",
        "for objective, details in savings_summary.items():\n",
        "    print(f\"- {objective}:\")\n",
        "    print(f\"  Frequency: {details['frequency']}\")\n",
        "    print(f\"  Description: {details['description']}\")"
      ],
      "metadata": {
        "colab": {
          "base_uri": "https://localhost:8080/"
        },
        "id": "vVzIJYCIp9o1",
        "outputId": "90bb57db-698c-4029-edfa-c426920bb419"
      },
      "execution_count": 12,
      "outputs": [
        {
          "output_type": "stream",
          "name": "stdout",
          "text": [
            "Savings Objectives Summary:\n",
            "- Retirement Plan:\n",
            "  Frequency: 24\n",
            "  Description: This objective focuses on retirement plan\n",
            "- Health Care:\n",
            "  Frequency: 13\n",
            "  Description: This objective focuses on health care\n",
            "- Education:\n",
            "  Frequency: 3\n",
            "  Description: This objective focuses on education\n"
          ]
        }
      ]
    },
    {
      "cell_type": "code",
      "source": [
        "#Task7: Common information sources\n",
        "def sources(df, column_name='Source'):\n",
        "\n",
        "    information_sources = df[column_name].str.split(';')\n",
        "    all_sources = [source.strip() for sublist in sources for source in sublist if source.strip()]\n",
        "    source_frequencies = pd.Series(all_sources).value_counts()\n",
        "\n",
        "    return source_frequencies\n",
        "\n",
        "source_frequencies = sources(df)\n",
        "\n",
        "print(\"Most Common Information Sources:\")\n",
        "print(source_frequencies.head(10))"
      ],
      "metadata": {
        "colab": {
          "base_uri": "https://localhost:8080/"
        },
        "id": "T6WUQbBGrtwD",
        "outputId": "e75611d9-5f8a-4105-dc84-18ce57f5241b"
      },
      "execution_count": 13,
      "outputs": [
        {
          "output_type": "stream",
          "name": "stdout",
          "text": [
            "Most Common Information Sources:\n",
            "Financial Consultants       16\n",
            "Newspapers and Magazines    14\n",
            "Television                   6\n",
            "Internet                     4\n",
            "Name: count, dtype: int64\n"
          ]
        }
      ]
    },
    {
      "cell_type": "code",
      "source": [
        "#Task8: Investment duration\n",
        "def average_duration(df, column_name='Duration'):\n",
        "\n",
        "    try:\n",
        "        durations = pd.to_numeric(df[column_name])\n",
        "    except ValueError:\n",
        "        durations = df[column_name].str.extract('(\\d+)').astype(float)\n",
        "    average_duration = np.mean(durations)\n",
        "    return average_duration\n",
        "\n",
        "average_duration = average_duration(df)\n",
        "\n",
        "print(f\"Average Investment Duration: {average_duration}\")"
      ],
      "metadata": {
        "colab": {
          "base_uri": "https://localhost:8080/"
        },
        "id": "MbKXHZ_JsffS",
        "outputId": "987bd966-bded-4924-a487-a6368f3bfb14"
      },
      "execution_count": 14,
      "outputs": [
        {
          "output_type": "stream",
          "name": "stdout",
          "text": [
            "Average Investment Duration: 2.05\n"
          ]
        }
      ]
    },
    {
      "cell_type": "code",
      "source": [
        "#Task9: Expectations from investments\n",
        "def expectations(df, column_name='Expect'):\n",
        "    all_expectations_text = \" \".join(df[column_name].astype(str).tolist())\n",
        "    tokens = word_tokenize(all_expectations_text.lower())\n",
        "    stop_words = set(stopwords.words('english'))\n",
        "    filtered_tokens = [w for w in tokens if w.isalnum() and w not in stop_words]\n",
        "\n",
        "    word_frequencies = Counter(filtered_tokens)\n",
        "\n",
        "    return word_frequencies\n",
        "\n",
        "\n",
        "expectations_frequencies = expectations(df)\n",
        "\n",
        "print(\"Common Expectations:\")\n",
        "for word, frequency in expectations_frequencies.most_common(10):\n",
        "    print(f\"- {word}: {frequency}\")"
      ],
      "metadata": {
        "colab": {
          "base_uri": "https://localhost:8080/"
        },
        "id": "py2VGSIcs_U0",
        "outputId": "c010dbcf-589f-4bb5-fddb-c7c5d5b48331"
      },
      "execution_count": 15,
      "outputs": [
        {
          "output_type": "stream",
          "name": "stdout",
          "text": [
            "Common Expectations:\n",
            "- 20: 32\n",
            "- 30: 5\n",
            "- 10: 3\n"
          ]
        }
      ]
    },
    {
      "cell_type": "code",
      "source": [
        "#Task10: Correlation analysis\n",
        "def correlations(df, columns=['age', 'Duration', 'Expect']):\n",
        "\n",
        "    subset_df = df[columns]\n",
        "    if subset_df['Duration'].dtype == object:\n",
        "        def extract_avg(range_str):\n",
        "            try:\n",
        "                lower, upper = map(float, range_str.replace('%', '').split('-'))\n",
        "                return (lower + upper) / 2\n",
        "            except ValueError:\n",
        "                try:\n",
        "                    return float(range_str.replace('%', ''))\n",
        "                except ValueError:\n",
        "                    return float('nan')\n",
        "\n",
        "        subset_df['Duration'] = subset_df['Duration'].apply(extract_avg_from_range)\n",
        "\n",
        "    correlation_matrix = subset_df.corr()\n",
        "\n",
        "    plt.figure(figsize=(8, 6))\n",
        "    sns.heatmap(correlation_matrix, annot=True, cmap='coolwarm', fmt=\".2f\")\n",
        "    plt.title(\"Correlation Matrix\")\n",
        "    plt.show()\n",
        "\n",
        "    for i in range(len(columns)):\n",
        "        for j in range(i + 1, len(columns)):\n",
        "            plt.figure(figsize=(6, 4))\n",
        "            plt.scatter(subset_df[columns[i]], subset_df[columns[j]])\n",
        "            plt.xlabel(columns[i])\n",
        "            plt.ylabel(columns[j])\n",
        "            plt.title(f\"Scatter Plot: {columns[i]} vs. {columns[j]}\")\n",
        "            plt.show()\n"
      ],
      "metadata": {
        "id": "byaDEhC5tE-g"
      },
      "execution_count": 26,
      "outputs": []
    }
  ]
}